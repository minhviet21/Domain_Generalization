{
  "cells": [
    {
      "cell_type": "code",
      "execution_count": 1,
      "metadata": {
        "id": "6mrfFtSdRqHu"
      },
      "outputs": [],
      "source": [
        "import torch\n",
        "import torchvision\n",
        "from torch import nn\n",
        "import torch.nn.functional as F\n",
        "import torchvision.models\n",
        "import torch.autograd as autograd\n",
        "import numpy as np"
      ]
    },
    {
      "cell_type": "code",
      "execution_count": 2,
      "metadata": {
        "colab": {
          "base_uri": "https://localhost:8080/"
        },
        "id": "fTSUIsH_GFi4",
        "outputId": "be53f630-29e4-406e-a081-b2e96cdb6d79"
      },
      "outputs": [
        {
          "name": "stdout",
          "output_type": "stream",
          "text": [
            "Cloning into 'Domain_Generalization_For_Image_Classification'...\n",
            "remote: Enumerating objects: 52, done.\u001b[K\n",
            "remote: Counting objects: 100% (52/52), done.\u001b[K\n",
            "remote: Compressing objects: 100% (43/43), done.\u001b[K\n",
            "remote: Total 52 (delta 23), reused 28 (delta 7), pack-reused 0\u001b[K\n",
            "Receiving objects: 100% (52/52), 524.29 KiB | 2.06 MiB/s, done.\n",
            "Resolving deltas: 100% (23/23), done.\n"
          ]
        }
      ],
      "source": [
        "!git clone https://github.com/minhviet21/Domain_Generalization_For_Image_Classification.git"
      ]
    },
    {
      "cell_type": "code",
      "execution_count": 3,
      "metadata": {
        "id": "DNSq-FPYF_dy"
      },
      "outputs": [],
      "source": [
        "import sys\n",
        "sys.path.append(\"/content/Domain_Generalization_For_Image_Classification/RSC\")\n",
        "from algorithms import ERM\n",
        "from hyperparameter import Hyperparameter\n",
        "hp = Hyperparameter()"
      ]
    },
    {
      "cell_type": "code",
      "execution_count": 4,
      "metadata": {
        "colab": {
          "base_uri": "https://localhost:8080/"
        },
        "id": "p8fnbOSeSQnH",
        "outputId": "a88c9923-bf6d-4170-f336-ac9608613c16"
      },
      "outputs": [
        {
          "name": "stdout",
          "output_type": "stream",
          "text": [
            "Mounted at /content/drive\n"
          ]
        }
      ],
      "source": [
        "from google.colab import drive\n",
        "drive.mount('/content/drive')\n"
      ]
    },
    {
      "cell_type": "code",
      "execution_count": 5,
      "metadata": {
        "id": "4T4w7vNDSdEd"
      },
      "outputs": [],
      "source": [
        "class OfficeHomeDataset(torchvision.datasets.ImageFolder):\n",
        "\n",
        "  def __init__(self, root_dir, domain, transform=None):\n",
        "    super(OfficeHomeDataset, self).__init__(root=root_dir+\"/\"+domain, transform=transform)\n",
        "    self.domain = domain\n",
        "\n",
        "  def get_domain(self):\n",
        "    return self.domain\n",
        "\n",
        "  def __getitem__(self, idx):\n",
        "      image_path = self.samples[idx][0]\n",
        "      if isinstance(image_path, str):\n",
        "          image = Image.open(image_path)\n",
        "      else:\n",
        "          image = image_path\n",
        "\n",
        "      if self.transform:\n",
        "        image = self.transform(image)\n",
        "\n",
        "      label = torch.tensor(self.samples[idx][1])\n",
        "      return image, label\n",
        "\n"
      ]
    },
    {
      "cell_type": "code",
      "execution_count": 6,
      "metadata": {
        "id": "KFxauHGHSftA"
      },
      "outputs": [],
      "source": [
        "from torchvision import transforms\n",
        "from PIL import Image\n",
        "data_dir = \"/content/drive/MyDrive/Colab Notebooks/CV/OfficeHome\"\n",
        "transform = transforms.Compose([\n",
        "  transforms.Resize(256),\n",
        "  transforms.CenterCrop(224),\n",
        "  transforms.ToTensor(),\n",
        "  transforms.Normalize(mean=[0.485, 0.456, 0.406], std=[0.229, 0.224, 0.225])\n",
        "])\n",
        "\n",
        "art_dataset = OfficeHomeDataset(data_dir, \"Art\", transform)\n",
        "\n",
        "# Iterate through the dataset loader\n",
        "train_loader = torch.utils.data.DataLoader(art_dataset, batch_size=32, shuffle=True)\n"
      ]
    },
    {
      "cell_type": "code",
      "execution_count": 7,
      "metadata": {
        "colab": {
          "base_uri": "https://localhost:8080/"
        },
        "id": "gxeLSeuoSiZu",
        "outputId": "f64cde04-be8b-4a22-9824-bda490281014"
      },
      "outputs": [
        {
          "name": "stderr",
          "output_type": "stream",
          "text": [
            "/usr/local/lib/python3.10/dist-packages/torchvision/models/_utils.py:223: UserWarning: Arguments other than a weight enum or `None` for 'weights' are deprecated since 0.13 and may be removed in the future. The current behavior is equivalent to passing `weights=ResNet18_Weights.IMAGENET1K_V1`. You can also use `weights=ResNet18_Weights.DEFAULT` to get the most up-to-date weights.\n",
            "  warnings.warn(msg)\n",
            "Downloading: \"https://download.pytorch.org/models/resnet18-f37072fd.pth\" to /root/.cache/torch/hub/checkpoints/resnet18-f37072fd.pth\n",
            "100%|██████████| 44.7M/44.7M [00:00<00:00, 108MB/s]\n"
          ]
        },
        {
          "name": "stdout",
          "output_type": "stream",
          "text": [
            "Epoch 1: Training loss = 0.7644\n",
            "Epoch 2: Training loss = 1.7189\n",
            "Epoch 3: Training loss = 2.7257\n",
            "Epoch 4: Training loss = 2.1878\n",
            "Epoch 5: Training loss = 0.9420\n",
            "Epoch 6: Training loss = 0.8068\n",
            "Epoch 7: Training loss = 0.7846\n",
            "Epoch 8: Training loss = 0.9571\n",
            "Epoch 9: Training loss = 0.6922\n",
            "Epoch 10: Training loss = 1.3763\n"
          ]
        }
      ],
      "source": [
        "model = RSC(2,4,hp,train_loader)\n",
        "for epoch in range(10):\n",
        "    loss_ = model.update()\n",
        "    print(f\"Epoch {epoch + 1}: Training loss = {loss_:.4f}\")"
      ]
    }
  ],
  "metadata": {
    "colab": {
      "provenance": []
    },
    "kernelspec": {
      "display_name": "Python 3",
      "name": "python3"
    },
    "language_info": {
      "name": "python"
    }
  },
  "nbformat": 4,
  "nbformat_minor": 0
}
