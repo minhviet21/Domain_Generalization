{
  "nbformat": 4,
  "nbformat_minor": 0,
  "metadata": {
    "colab": {
      "provenance": [],
      "gpuType": "T4"
    },
    "kernelspec": {
      "name": "python3",
      "display_name": "Python 3"
    },
    "language_info": {
      "name": "python"
    },
    "accelerator": "GPU"
  },
  "cells": [
    {
      "cell_type": "code",
      "execution_count": 29,
      "metadata": {
        "id": "6mrfFtSdRqHu"
      },
      "outputs": [],
      "source": [
        "from torchvision.models import resnet50\n",
        "import torch\n",
        "import torchvision\n",
        "from torch import nn"
      ]
    },
    {
      "cell_type": "code",
      "source": [
        "def get_resnet():\n",
        "    m = resnet50(weights=None)\n",
        "    m.fc = nn.Linear(2048, 65)\n",
        "    return m\n",
        "model = get_resnet()"
      ],
      "metadata": {
        "id": "4T_94wTBSMVe"
      },
      "execution_count": 30,
      "outputs": []
    },
    {
      "cell_type": "code",
      "source": [
        "from google.colab import drive\n",
        "drive.mount('/content/drive')\n",
        "#!unzip '/content/drive/MyDrive/OfficeHomeDataset_10072016.zip' -d '/content'"
      ],
      "metadata": {
        "colab": {
          "base_uri": "https://localhost:8080/"
        },
        "id": "p8fnbOSeSQnH",
        "outputId": "9cefce8a-3603-4332-f165-db8f0f90df7c"
      },
      "execution_count": 31,
      "outputs": [
        {
          "output_type": "stream",
          "name": "stdout",
          "text": [
            "Drive already mounted at /content/drive; to attempt to forcibly remount, call drive.mount(\"/content/drive\", force_remount=True).\n"
          ]
        }
      ]
    },
    {
      "cell_type": "code",
      "source": [
        "class OfficeHomeDataset(torchvision.datasets.ImageFolder):\n",
        "\n",
        "  def __init__(self, root_dir, domain, transform=None):\n",
        "    super(OfficeHomeDataset, self).__init__(root=root_dir+\"/\"+domain, transform=transform)\n",
        "    self.domain = domain\n",
        "\n",
        "  def get_domain(self):\n",
        "    return self.domain\n",
        "  def __getitem__(self, idx):\n",
        "      image_path = self.samples[idx][0]\n",
        "      if isinstance(image_path, str):\n",
        "          image = Image.open(image_path)\n",
        "      else:\n",
        "          image = image_path\n",
        "\n",
        "      if self.transform:\n",
        "        image = self.transform(image)\n",
        "\n",
        "      label = torch.tensor(self.samples[idx][1])\n",
        "      return image, label\n",
        "\n"
      ],
      "metadata": {
        "id": "4T4w7vNDSdEd"
      },
      "execution_count": 32,
      "outputs": []
    },
    {
      "cell_type": "code",
      "source": [
        "from torchvision import transforms\n",
        "from PIL import Image\n",
        "data_dir = \"/content/drive/MyDrive/OfficeHome\"\n",
        "transform = transforms.Compose([\n",
        "  transforms.Resize(256),\n",
        "  transforms.CenterCrop(224),\n",
        "  transforms.ToTensor(),\n",
        "  transforms.Normalize(mean=[0.485, 0.456, 0.406], std=[0.229, 0.224, 0.225])\n",
        "])\n",
        "\n",
        "art_dataset = OfficeHomeDataset(data_dir, \"Art\", transform)\n",
        "print(art_dataset.get_domain())  # Output: Art\n",
        "\n",
        "# Iterate through the dataset loader\n",
        "train_loader = torch.utils.data.DataLoader(art_dataset, batch_size=32, shuffle=True)\n"
      ],
      "metadata": {
        "colab": {
          "base_uri": "https://localhost:8080/"
        },
        "id": "KFxauHGHSftA",
        "outputId": "605736d0-7bb8-4e2c-ba54-d5a2d69235cb"
      },
      "execution_count": 33,
      "outputs": [
        {
          "output_type": "stream",
          "name": "stdout",
          "text": [
            "Art\n"
          ]
        }
      ]
    },
    {
      "cell_type": "code",
      "source": [
        "import torch.optim as optim\n",
        "\n",
        "loss_fn = nn.CrossEntropyLoss()\n",
        "optimizer = optim.Adam(model.parameters(), lr=0.001)\n",
        "def update():\n",
        "  for images, labels in train_loader:\n",
        "    outputs = model(images)\n",
        "    loss = loss_fn(outputs, labels)\n",
        "    optimizer.zero_grad()\n",
        "    loss.backward()\n",
        "    optimizer.step()\n",
        "    return loss.item()\n",
        "\n",
        "for epoch in range(10):\n",
        "    loss_ = update()\n",
        "    print(f\"Epoch {epoch + 1}: Training loss = {loss_:.4f}\")"
      ],
      "metadata": {
        "colab": {
          "base_uri": "https://localhost:8080/"
        },
        "id": "gxeLSeuoSiZu",
        "outputId": "2af11670-7764-4b28-e654-7bf72968c5e6"
      },
      "execution_count": 34,
      "outputs": [
        {
          "output_type": "stream",
          "name": "stdout",
          "text": [
            "Epoch 1: Training loss = 4.6801\n",
            "Epoch 2: Training loss = 1.5026\n",
            "Epoch 3: Training loss = 0.7336\n",
            "Epoch 4: Training loss = 0.5032\n",
            "Epoch 5: Training loss = 0.0642\n",
            "Epoch 6: Training loss = 0.0059\n",
            "Epoch 7: Training loss = 0.0005\n",
            "Epoch 8: Training loss = 0.0001\n",
            "Epoch 9: Training loss = 0.0001\n",
            "Epoch 10: Training loss = 0.0000\n"
          ]
        }
      ]
    }
  ]
}