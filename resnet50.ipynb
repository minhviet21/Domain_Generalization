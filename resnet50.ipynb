{
  "cells": [
    {
      "cell_type": "code",
      "execution_count": 29,
      "metadata": {
        "id": "6mrfFtSdRqHu"
      },
      "outputs": [],
      "source": [
        "from torchvision.models import resnet50\n",
        "import torch\n",
        "import torchvision\n",
        "from torch import nn"
      ]
    },
    {
      "cell_type": "code",
      "execution_count": 30,
      "metadata": {
        "id": "4T_94wTBSMVe"
      },
      "outputs": [],
      "source": [
        "def get_resnet():\n",
        "    m = resnet50(weights=None)\n",
        "    m.fc = nn.Linear(2048, 65)\n",
        "    return m\n",
        "model = get_resnet()"
      ]
    },
    {
      "cell_type": "code",
      "execution_count": 31,
      "metadata": {
        "colab": {
          "base_uri": "https://localhost:8080/"
        },
        "id": "p8fnbOSeSQnH",
        "outputId": "9cefce8a-3603-4332-f165-db8f0f90df7c"
      },
      "outputs": [
        {
          "name": "stdout",
          "output_type": "stream",
          "text": [
            "Drive already mounted at /content/drive; to attempt to forcibly remount, call drive.mount(\"/content/drive\", force_remount=True).\n"
          ]
        }
      ],
      "source": [
        "#from google.colab import drive\n",
        "#drive.mount('/content/drive')\n",
        "#!unzip '/content/drive/MyDrive/OfficeHomeDataset_10072016.zip' -d '/content'"
      ]
    },
    {
      "cell_type": "code",
      "execution_count": null,
      "metadata": {},
      "outputs": [],
      "source": [
        "class OfficeHomeDataset(torchvision.datasets.ImageFolder):\n",
        "\n",
        "    def __init__(self, root_dir, domain, transform=None):\n",
        "        super(OfficeHomeDataset, self).__init__(root=root_dir+\"/\"+domain, transform=transform)\n",
        "        self.domain = domain\n",
        "\n",
        "    def get_domain(self):\n",
        "        return self.domain\n",
        "    \n",
        "      def __getitem__(self, idx):\n",
        "        image_path = self.samples[idx][0]\n",
        "        if isinstance(image_path, str):\n",
        "            image = Image.open(image_path)\n",
        "        else:\n",
        "            image = image_path\n",
        "\n",
        "        if self.transform:\n",
        "            image = self.transform(image)\n",
        "\n",
        "        label = torch.tensor(self.samples[idx][1])\n",
        "        return image, label"
      ]
    },
    {
      "cell_type": "code",
      "execution_count": null,
      "metadata": {},
      "outputs": [],
      "source": [
        "from torchvision import transforms\n",
        "from PIL import Image\n",
        "data_dir = \"/content/drive/MyDrive/OfficeHome\"\n",
        "transform = transforms.Compose([\n",
        "    transforms.Resize(256),\n",
        "    transforms.CenterCrop(224),\n",
        "    transforms.ToTensor(),\n",
        "    transforms.Normalize(mean=[0.485, 0.456, 0.406], std=[0.229, 0.224, 0.225])\n",
        "])\n",
        "\n",
        "art_dataset = OfficeHomeDataset(data_dir, \"Art\", transform)\n",
        "\n",
        "# Iterate through the dataset loader\n",
        "train_loader = torch.utils.data.DataLoader(art_dataset, batch_size=32, shuffle=True)"
      ]
    },
    {
      "cell_type": "code",
      "execution_count": null,
      "metadata": {},
      "outputs": [],
      "source": [
        "import torch.optim as optim\n",
        "\n",
        "loss_fn = nn.CrossEntropyLoss()\n",
        "optimizer = optim.Adam(model.parameters(), lr=0.001)\n",
        "def update():\n",
        "    for images, labels in train_loader:\n",
        "        outputs = model(images)\n",
        "        loss = loss_fn(outputs, labels)\n",
        "        optimizer.zero_grad()\n",
        "        loss.backward()\n",
        "        optimizer.step()\n",
        "        return loss.item()\n",
        "\n",
        "for epoch in range(10):\n",
        "    loss_ = update()\n",
        "    print(f\"Epoch {epoch + 1}: Training loss = {loss_:.4f}\")"
      ]
    }
  ],
  "metadata": {
    "accelerator": "GPU",
    "colab": {
      "gpuType": "T4",
      "provenance": []
    },
    "kernelspec": {
      "display_name": "Python 3",
      "name": "python3"
    },
    "language_info": {
      "name": "python"
    }
  },
  "nbformat": 4,
  "nbformat_minor": 0
}
